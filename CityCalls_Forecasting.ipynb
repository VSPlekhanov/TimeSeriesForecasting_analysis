{
  "nbformat": 4,
  "nbformat_minor": 0,
  "metadata": {
    "colab": {
      "name": "CityCalls_Forecasting.ipynb",
      "provenance": [],
      "collapsed_sections": [],
      "authorship_tag": "ABX9TyPq0Wqdar6AFMxlcGAmSYqj",
      "include_colab_link": true
    },
    "kernelspec": {
      "name": "python3",
      "display_name": "Python 3"
    },
    "language_info": {
      "name": "python"
    }
  },
  "cells": [
    {
      "cell_type": "markdown",
      "metadata": {
        "id": "view-in-github",
        "colab_type": "text"
      },
      "source": [
        "<a href=\"https://colab.research.google.com/github/VSPlekhanov/TimeSeriesForecasting_analysis/blob/main/CityCalls_Forecasting.ipynb\" target=\"_parent\"><img src=\"https://colab.research.google.com/assets/colab-badge.svg\" alt=\"Open In Colab\"/></a>"
      ]
    },
    {
      "cell_type": "code",
      "metadata": {
        "id": "gLs0A90tbyXu"
      },
      "source": [
        "import pandas as pd\n",
        "import matplotlib.pyplot as plt\n",
        "import statsmodels as stat\n",
        "from sklearn.metrics import mean_squared_error\n",
        "import math"
      ],
      "execution_count": 4,
      "outputs": []
    },
    {
      "cell_type": "code",
      "metadata": {
        "id": "5yKx_hGzcGUx"
      },
      "source": [
        "data = pd.read_csv('CityCalls.csv', ';')"
      ],
      "execution_count": 5,
      "outputs": []
    },
    {
      "cell_type": "code",
      "metadata": {
        "colab": {
          "base_uri": "https://localhost:8080/",
          "height": 281
        },
        "id": "0OBxuFQocIfh",
        "outputId": "ea26882d-b7dc-48c3-bc5b-e29595766588"
      },
      "source": [
        "data['Date'] = pd.to_datetime(data.Month)\n",
        "data = data.drop('Month', axis=1)\n",
        "data.set_index('Date', inplace=True)\n",
        "plt.plot(data['Calls'])"
      ],
      "execution_count": 6,
      "outputs": [
        {
          "output_type": "execute_result",
          "data": {
            "text/plain": [
              "[<matplotlib.lines.Line2D at 0x7fb1a3da9910>]"
            ]
          },
          "metadata": {
            "tags": []
          },
          "execution_count": 6
        },
        {
          "output_type": "display_data",
          "data": {
            "image/png": "[encoded data removed]",
            "text/plain": [
              "<Figure size 432x288 with 1 Axes>"
            ]
          },
          "metadata": {
            "tags": [],
            "needs_background": "light"
          }
        }
      ]
    },
    {
      "cell_type": "code",
      "metadata": {
        "id": "BhZ1cB8vcOZS"
      },
      "source": [
        "# Тест Дики-Фулера\n",
        "from statsmodels.tsa.stattools import adfuller\n",
        "adf, pvalue, usedlag_, nobs_, critical_values_, icbest_ = adfuller(data['Calls'])\n",
        "print(\"pvalue = \", pvalue, \" если больще 0.05, временной ряд не стацонарен\")"
      ],
      "execution_count": null,
      "outputs": []
    },
    {
      "cell_type": "code",
      "metadata": {
        "id": "nwVqFJF8ciMK"
      },
      "source": [
        "from statsmodels.tsa.seasonal import seasonal_decompose\n",
        "decomposed = seasonal_decompose(data['Calls'], model='multiplicative')\n",
        "\n",
        "trend = decomposed.trend\n",
        "seasonal = decomposed.seasonal\n",
        "residual = decomposed.resid\n",
        "\n",
        "plt.figure(figsize=(12,8))\n",
        "plt.subplot(411)\n",
        "plt.plot(data, label='Original')\n",
        "plt.legend(loc='upper left')\n",
        "\n",
        "plt.subplot(412)\n",
        "plt.plot(trend, label='Trend')\n",
        "plt.legend(loc='upper left')\n",
        "\n",
        "plt.subplot(413)\n",
        "plt.plot(seasonal, label='Seasonal')\n",
        "plt.legend(loc='upper left')\n",
        "\n",
        "plt.subplot(414)\n",
        "plt.plot(residual, label='Residual')\n",
        "plt.legend(loc='upper left')"
      ],
      "execution_count": null,
      "outputs": []
    },
    {
      "cell_type": "code",
      "metadata": {
        "id": "F-L3TKYMjv2G"
      },
      "source": [
        "size = int(len(data) * 0.66)\n",
        "X_train, X_test = data[:size], data[size:len(data)]\n",
        "train, test = X_train, X_test"
      ],
      "execution_count": 9,
      "outputs": []
    },
    {
      "cell_type": "code",
      "metadata": {
        "id": "dTM0Ra7yn49w"
      },
      "source": [
        "s = 12\n",
        "prediction = data.copy()\n",
        "for i in range(len(X_test)):\n",
        "  prev = prediction['Calls'][len(X_train) + i - s]\n",
        "  prevPrev = prediction['Calls'][len(X_train) + i - 2*s]\n",
        "  prediction['Calls'][len(X_train) + i] = prev * (prev / prevPrev)"
      ],
      "execution_count": 10,
      "outputs": []
    },
    {
      "cell_type": "code",
      "metadata": {
        "id": "6dUm6SUfsZUL"
      },
      "source": [
        "plt.figure(figsize=(12,8))\n",
        "plt.plot(data, label='Данные', color='blue')\n",
        "plt.plot(prediction[len(X_train):], label='Прогноз', color='red')\n",
        "plt.legend()\n",
        "testScore = math.sqrt(mean_squared_error(X_test, prediction[len(X_train):]))\n",
        "print('Корень среднеквадратичного отклонения на проверяющей выборке: %.2f' % (testScore))"
      ],
      "execution_count": null,
      "outputs": []
    },
    {
      "cell_type": "code",
      "metadata": {
        "id": "OGOUnhATQbv2"
      },
      "source": [
        "s = 12\n",
        "prediction = X_test.copy()\n",
        "for i in range(len(X_train), len(data)):\n",
        "  prev = data['Calls'][i - s]\n",
        "  prevPrev = data['Calls'][i - 2*s]\n",
        "  prediction['Calls'][i - len(X_train)] = prev * (prev / prevPrev)"
      ],
      "execution_count": 12,
      "outputs": []
    },
    {
      "cell_type": "code",
      "metadata": {
        "id": "pBUNHgMhSBDV"
      },
      "source": [
        "plt.figure(figsize=(12,8))\n",
        "plt.plot(data, label='Данные', color='blue')\n",
        "plt.plot(prediction, label='Прогноз', color='red')\n",
        "plt.legend()\n",
        "testScore = math.sqrt(mean_squared_error(X_test, prediction))\n",
        "print('Корень среднеквадратичного отклонения на проверяющей выборке: %.2f' % (testScore))"
      ],
      "execution_count": null,
      "outputs": []
    },
    {
      "cell_type": "code",
      "metadata": {
        "id": "bQJtR1yM8dXC"
      },
      "source": [
        "def predict_full(model, data, start=len(X_train)):\n",
        "  model = model.fit()\n",
        "  pred = model.predict(start=start, end=len(data)-1)\n",
        "\n",
        "  return pred"
      ],
      "execution_count": 14,
      "outputs": []
    },
    {
      "cell_type": "code",
      "metadata": {
        "id": "67oJhTOS4TYU"
      },
      "source": [
        "def predict_window(modelCreationFunc, data, window, start=len(X_train)):\n",
        "  curr_start = start\n",
        "  pred = pd.Series(dtype='float64')\n",
        "  while curr_start < len(data):\n",
        "    model = modelCreationFunc(data[:curr_start])\n",
        "    model = model.fit()\n",
        "    pred = pred.append(model.predict(start=curr_start, end= min(curr_start + window - 1, len(data) - 1)))\n",
        "    curr_start += window\n",
        "\n",
        "  return pred"
      ],
      "execution_count": 15,
      "outputs": []
    },
    {
      "cell_type": "code",
      "metadata": {
        "id": "4TDnB9IAaor_"
      },
      "source": [
        "def analyse(full, mid, low):\n",
        "  testScore = math.sqrt(mean_squared_error(X_test, full))\n",
        "  print('Корень среднеквадратичного отклонения при полном прогнозе: %.2f' % (testScore))\n",
        "\n",
        "  testScore = math.sqrt(mean_squared_error(X_test, mid))\n",
        "  print('Корень среднеквадратичного отклонения при прогнозе на год: %.2f' % (testScore))\n",
        "\n",
        "  testScore = math.sqrt(mean_squared_error(X_test, low))\n",
        "  print('Корень среднеквадратичного отклонения при прогнозе на месяц: %.2f' % (testScore))\n",
        "\n",
        "  fig, ax = plt.subplots(nrows=2, ncols=2)\n",
        "  fig.set_figheight(12)\n",
        "  fig.set_figwidth(15)\n",
        "\n",
        "  ax[0][0].plot(X_test, label='Данные', color='blue')\n",
        "  ax[0][0].plot(full, label='Прогноз на весь промежуток', color='red')\n",
        "  ax[0][0].plot(mid, label='Прогноз на год', color='green')\n",
        "  ax[0][0].plot(low, label='Прогноз на месяц', color='purple')\n",
        "  ax[0][0].legend(loc='best');\n",
        "\n",
        "  ax[0][1].plot(X_test, label='Данные', color='blue')\n",
        "  ax[0][1].plot(full, label='Прогноз на весь промежуток', color='red')\n",
        "  ax[0][1].legend(loc='best');\n",
        "\n",
        "  ax[1][0].plot(X_test, label='Данные', color='blue')\n",
        "  ax[1][0].plot(mid, label='Прогноз на год', color='green')\n",
        "  ax[1][0].legend(loc='best');\n",
        "\n",
        "  ax[1][1].plot(X_test, label='Данные', color='blue')\n",
        "  ax[1][1].plot(low, label='Прогноз на месяц', color='purple')\n",
        "  ax[1][1].legend(loc='best');"
      ],
      "execution_count": 16,
      "outputs": []
    },
    {
      "cell_type": "code",
      "metadata": {
        "id": "8yR62-RSMg1x"
      },
      "source": [
        "def get_ES_model(train):\n",
        "  return ExponentialSmoothing(train, trend='add', seasonal='add', seasonal_periods=12, freq='MS')"
      ],
      "execution_count": 17,
      "outputs": []
    },
    {
      "cell_type": "code",
      "metadata": {
        "id": "yyhRAgcxU2pW"
      },
      "source": [
        "%%time\n",
        "from statsmodels.tsa.holtwinters import ExponentialSmoothing\n",
        "\n",
        "full = predict_full(get_ES_model(train), data)\n",
        "mid = predict_window(get_ES_model, data, 12)\n",
        "low = predict_window(get_ES_model, data, 1)\n",
        "\n",
        "analyse(full, mid, low)"
      ],
      "execution_count": null,
      "outputs": []
    },
    {
      "cell_type": "code",
      "metadata": {
        "id": "18Q47rUxOOz0"
      },
      "source": [
        "from statsmodels.tsa.statespace.sarimax import SARIMAX\n",
        "def get_ARIMA(train):\n",
        "  return SARIMAX(train['Calls'], order=(1,1,0), seasonal_order=(1,1,0,12), freq='MS')"
      ],
      "execution_count": null,
      "outputs": []
    },
    {
      "cell_type": "code",
      "metadata": {
        "id": "IvpcU-bZtCUm"
      },
      "source": [
        "%%time\n",
        "from statsmodels.tsa.statespace.sarimax import SARIMAX\n",
        "\n",
        "full = predict_full(get_ARIMA(train), data)\n",
        "mid = predict_window(get_ARIMA, data, 12)\n",
        "low = predict_window(get_ARIMA, data, 1)\n",
        "\n",
        "analyse(full, mid, low)"
      ],
      "execution_count": null,
      "outputs": []
    },
    {
      "cell_type": "code",
      "metadata": {
        "id": "s5NOo-dHZhon"
      },
      "source": [
        "from keras.models import Sequential\n",
        "from keras.layers import Dense\n",
        "from sklearn.preprocessing import MinMaxScaler\n",
        "import numpy as np\n",
        "from tensorflow import random\n",
        "\n",
        "np.random.seed(1)\n",
        "random.set_seed(2)"
      ],
      "execution_count": 19,
      "outputs": []
    },
    {
      "cell_type": "code",
      "metadata": {
        "id": "7yrRorXYbhwI"
      },
      "source": [
        "dataset = data.values.astype('float32')\n",
        "scaler = MinMaxScaler(feature_range=(0,1))\n",
        "dataset = scaler.fit_transform(dataset)"
      ],
      "execution_count": 20,
      "outputs": []
    },
    {
      "cell_type": "code",
      "metadata": {
        "id": "JIbnQHJnb8FU"
      },
      "source": [
        "train_size = int(len(dataset) * 0.66)\n",
        "test_size = len(dataset) - train_size\n",
        "train, test = dataset[0:train_size], dataset[train_size:len(dataset)]"
      ],
      "execution_count": 21,
      "outputs": []
    },
    {
      "cell_type": "code",
      "metadata": {
        "id": "clQRac0GcF_T"
      },
      "source": [
        "seq_len = 16\n",
        "trainX, testX, trainY, testY = [], [], [], []\n",
        "for i in range(train_size - seq_len):\n",
        "  trainX.append(train[i:i + seq_len, 0])\n",
        "  trainY.append(train[i+seq_len, 0])\n",
        "\n",
        "for i in range(test_size):\n",
        "  testX.append(dataset[train_size + i - seq_len: train_size + i, 0])\n",
        "  testY.append(test[i, 0])\n",
        "\n",
        "trainX = np.array(trainX)\n",
        "testX = np.array(testX)\n",
        "trainY = np.array(trainY)\n",
        "testY = np.array(testY)"
      ],
      "execution_count": 22,
      "outputs": []
    },
    {
      "cell_type": "code",
      "metadata": {
        "id": "7EFTf7hkyqC_"
      },
      "source": [
        "dataX = np.concatenate((trainX, testX))\n",
        "dataY = np.concatenate((trainY, testY))"
      ],
      "execution_count": 23,
      "outputs": []
    },
    {
      "cell_type": "code",
      "metadata": {
        "id": "RR0MZ3U8Wf5G"
      },
      "source": [
        "def predict_full_train(trainX, trainY, testX, testY, count):\n",
        "  pred = np.zeros((len(trainX), 1))\n",
        "  for i in range(count):\n",
        "    model = Sequential()\n",
        "    model.add(Dense(160, input_dim=seq_len, activation='relu'))\n",
        "    model.add(Dense(160, activation='relu'))\n",
        "    model.add(Dense(1))  \n",
        "    model.compile(loss='mean_squared_error', optimizer='adam', metrics = ['acc'])\n",
        "    model.fit(trainX, trainY, verbose=0, epochs=100)\n",
        "    pred += model.predict(trainX)\n",
        "\n",
        "  trainPredict = pred / count\n",
        "  trainPredict = scaler.inverse_transform(trainPredict)\n",
        "  trainY_inverse = scaler.inverse_transform([trainY])\n",
        "\n",
        "  trainScore = math.sqrt(mean_squared_error(trainY_inverse[0], trainPredict[:,0]))\n",
        "\n",
        "  return trainScore"
      ],
      "execution_count": 24,
      "outputs": []
    },
    {
      "cell_type": "code",
      "metadata": {
        "id": "om4wvLkWnzwu"
      },
      "source": [
        "def predict_full(trainX, trainY, testX, testY, count):\n",
        "  pred = np.zeros((len(testY), 1))\n",
        "  for i in range(count):\n",
        "    model = Sequential()\n",
        "    model.add(Dense(160, input_dim=seq_len, activation='relu'))\n",
        "    model.add(Dense(160, activation='relu'))\n",
        "    model.add(Dense(1))  \n",
        "    model.compile(loss='mean_squared_error', optimizer='adam', metrics = ['acc'])\n",
        "    model.fit(trainX, trainY, verbose=0, epochs=100)\n",
        "    pred += model.predict(testX)\n",
        "\n",
        "  testPredict = pred / count\n",
        "  testPredict = scaler.inverse_transform(testPredict)\n",
        "  testY_inverse = scaler.inverse_transform([testY])\n",
        "\n",
        "  testScore = math.sqrt(mean_squared_error(testY_inverse[0], testPredict[:,0]))\n",
        "  return testPredict, testScore"
      ],
      "execution_count": 25,
      "outputs": []
    },
    {
      "cell_type": "code",
      "metadata": {
        "id": "gVHyAxsgoMXe"
      },
      "source": [
        "def predict_parts(model, trainX, trainY, testX, testY, window, epochs):\n",
        "  dataX = np.concatenate((trainX, testX))\n",
        "  dataY = np.concatenate((trainY, testY))\n",
        "\n",
        "  parts_count = int(len(testY) / window)\n",
        "  parts = []\n",
        "  for i in range(parts_count):\n",
        "    parts += [testX[i * window:(i + 1) * window]]\n",
        "  if parts_count * window < len(testX):\n",
        "    parts += [testX[parts_count * window:]]\n",
        "  \n",
        "  pred = np.empty((0, 1))\n",
        "\n",
        "  for i in range(len(parts)):\n",
        "    curr_len = len(trainX) + window * i\n",
        "    prev_len = 0\n",
        "    \n",
        "    model.fit(dataX[prev_len:curr_len], dataY[prev_len:curr_len], verbose=0, epochs=epochs+(curr_len - prev_len)*2)\n",
        "    pred = np.concatenate(\\\n",
        "        (pred, model.predict(dataX[curr_len:curr_len + min(window, len(dataX) - curr_len)])))\n",
        "    prev_len = curr_len\n",
        "  testPredict = scaler.inverse_transform(pred)\n",
        "  testY_inverse = scaler.inverse_transform([testY])\n",
        "\n",
        "  testScore = math.sqrt(mean_squared_error(testY_inverse[0], testPredict[:,0]))\n",
        "  return testPredict, testScore\n"
      ],
      "execution_count": 26,
      "outputs": []
    },
    {
      "cell_type": "code",
      "metadata": {
        "id": "hKfiUvhY1MTL"
      },
      "source": [
        "def get_FFNN_model():\n",
        "  model = Sequential()\n",
        "  model.add(Dense(160, input_dim=seq_len, activation='relu'))\n",
        "  model.add(Dense(160, activation='relu'))\n",
        "  model.add(Dense(1))  \n",
        "  model.compile(loss='mean_squared_error', optimizer='adam', metrics = ['acc'])\n",
        "  return model"
      ],
      "execution_count": 27,
      "outputs": []
    },
    {
      "cell_type": "code",
      "metadata": {
        "id": "yjU39qqBlbfV"
      },
      "source": [
        "%%time\n",
        "count = 10\n",
        "\n",
        "pred = np.zeros((49,1))\n",
        "for i in range(count):\n",
        "  pred += predict_parts(get_FFNN_model(), trainX, trainY, testX, testY, 12, 200)[0]\n",
        "pred /= count\n",
        "\n",
        "pred_full, score = predict_full(trainX, trainY, testX, testY, count)\n",
        "pred_low, score = predict_parts(get_FFNN_model(), trainX, trainY, testX, testY, 1, 30)"
      ],
      "execution_count": null,
      "outputs": []
    },
    {
      "cell_type": "code",
      "metadata": {
        "id": "KeeynU4Nc8j8"
      },
      "source": [
        "analyse(pd.DataFrame(pred_full, index=X_test.index),\n",
        "        pd.DataFrame(pred, index=X_test.index),\n",
        "        pd.DataFrame(pred_low, index=X_test.index))"
      ],
      "execution_count": null,
      "outputs": []
    },
    {
      "cell_type": "code",
      "metadata": {
        "id": "K_whtrAz3mJg"
      },
      "source": [
        "import numpy as np\n",
        "import matplotlib.pyplot as plt\n",
        "from pandas import read_csv\n",
        "import math\n",
        "\n",
        "from keras.models import Sequential\n",
        "from keras.layers import Dense, SimpleRNN, LSTM\n",
        "from sklearn.preprocessing import MinMaxScaler\n",
        "from sklearn.metrics import mean_squared_error\n",
        "from tensorflow import random\n",
        "\n",
        "np.random.seed(1)\n",
        "random.set_seed(2)\n",
        "num_features = 1"
      ],
      "execution_count": null,
      "outputs": []
    },
    {
      "cell_type": "code",
      "metadata": {
        "id": "9Y18XbLG-lKN"
      },
      "source": [
        "train_size = int(len(dataset) * 0.66)\n",
        "test_size = len(dataset) - train_size\n",
        "train, test = dataset[0:train_size,:], dataset[train_size:len(dataset),:]"
      ],
      "execution_count": null,
      "outputs": []
    },
    {
      "cell_type": "code",
      "metadata": {
        "id": "rLsd9gifNgMc"
      },
      "source": [
        "def test_it(model, seq_len, epochs = 100):\n",
        "  model.fit(trainX, trainY, verbose=2, epochs=epochs)\n",
        "  trainPredict = model.predict(trainX)\n",
        "  testPredict = model.predict(testX)\n",
        "\n",
        "  trainPredict = scaler.inverse_transform(trainPredict)\n",
        "  trainY_inverse = scaler.inverse_transform([trainY])\n",
        "  testPredict = scaler.inverse_transform(testPredict)\n",
        "  testY_inverse = scaler.inverse_transform([testY])\n",
        "\n",
        "  return math.sqrt(mean_squared_error(trainY_inverse[0], trainPredict[:,0])), testPredict"
      ],
      "execution_count": null,
      "outputs": []
    },
    {
      "cell_type": "code",
      "metadata": {
        "id": "igamRaH2Gawy"
      },
      "source": [
        "def get_LSTM_model():\n",
        "  model = Sequential()\n",
        "  model.add(LSTM(4, input_shape=(seq_len, num_features),activation='relu'))\n",
        "  model.add(Dense(1))\n",
        "  model.compile(optimizer = 'adam', loss='mse')\n",
        "  return model"
      ],
      "execution_count": null,
      "outputs": []
    },
    {
      "cell_type": "code",
      "metadata": {
        "id": "hJtkXi1jFaqE"
      },
      "source": [
        "def to_supervised(dataset, seq_len):\n",
        "  train_size = int(len(dataset) * 0.66)\n",
        "  test_size = len(dataset) - train_size\n",
        "  train, test = dataset[0:train_size,:], dataset[train_size:len(dataset),:]\n",
        "\n",
        "  trainX, testX, trainY, testY = [], [], [], []\n",
        "  for i in range(train_size - seq_len):\n",
        "    trainX.append(train[i:i + seq_len, 0])\n",
        "    trainY.append(train[i+seq_len, 0])\n",
        "\n",
        "  for i in range(test_size):\n",
        "    testX.append(dataset[train_size + i - seq_len: train_size + i, 0])\n",
        "    testY.append(test[i, 0])\n",
        "\n",
        "  trainX = np.array(trainX)\n",
        "  testX = np.array(testX)\n",
        "  trainY = np.array(trainY)\n",
        "  testY = np.array(testY)\n",
        "  trainX = np.reshape(trainX, (trainX.shape[0], seq_len, 1))\n",
        "  testX = np.reshape(testX, (testX.shape[0], seq_len, 1))\n",
        "  return trainX, trainY, testX, testY"
      ],
      "execution_count": 30,
      "outputs": []
    },
    {
      "cell_type": "code",
      "metadata": {
        "id": "dJlsjuBBPTkU"
      },
      "source": [
        "trainX, trainY, testX, testY = to_supervised(dataset, 18)\n",
        "dataX = np.concatenate((trainX, testX))\n",
        "dataY = np.concatenate((trainY, testY))"
      ],
      "execution_count": null,
      "outputs": []
    },
    {
      "cell_type": "code",
      "metadata": {
        "id": "xPzQ7tq6fIHL"
      },
      "source": [
        "%%time\n",
        "count = 1\n",
        "pred, score = predict_parts(get_LSTM_model(), trainX, trainY, testX, testY, 12)\n",
        "pred_full, score = predict_full(get_LSTM_model, trainX, trainY, testX, testY, count)\n",
        "pred_low, score = predict_parts(get_LSTM_model(), trainX, trainY, testX, testY, 1)"
      ],
      "execution_count": null,
      "outputs": []
    },
    {
      "cell_type": "code",
      "metadata": {
        "id": "u5dWqClsfFrg"
      },
      "source": [
        "analyse(pd.DataFrame(pred_full, index=X_test.index),\n",
        "        pd.DataFrame(pred, index=X_test.index),\n",
        "        pd.DataFrame(pred_low, index=X_test.index))"
      ],
      "execution_count": null,
      "outputs": []
    },
    {
      "cell_type": "code",
      "metadata": {
        "id": "mTByldZv3wn4"
      },
      "source": [
        "def get_RNN_model():\n",
        "  model = Sequential()\n",
        "  model.add(SimpleRNN(128, input_shape=(seq_len, num_features), activation='relu', return_sequences=True)) #12\n",
        "  model.add(SimpleRNN(128, activation='relu')) #12\n",
        "  model.add(Dense(1))\n",
        "  model.compile(loss='mean_squared_error', optimizer='adam', metrics = ['acc']) \n",
        "  return model"
      ],
      "execution_count": null,
      "outputs": []
    },
    {
      "cell_type": "code",
      "metadata": {
        "id": "ajeJ-StkBcll"
      },
      "source": [
        "def test_and_plot(model, seq_len, epochs = 100):\n",
        "  model.fit(trainX, trainY, verbose=0, epochs=epochs)\n",
        "  trainPredict = model.predict(trainX)\n",
        "  testPredict = model.predict(testX)\n",
        "\n",
        "  trainPredict = scaler.inverse_transform(trainPredict)\n",
        "  trainY_inverse = scaler.inverse_transform([trainY])\n",
        "  testPredict = scaler.inverse_transform(testPredict)\n",
        "  testY_inverse = scaler.inverse_transform([testY])\n",
        "\n",
        "  trainScore = math.sqrt(mean_squared_error(trainY_inverse[0], trainPredict[:,0]))\n",
        "  print('Train Score: %.2f RMSE' % (trainScore))\n",
        "\n",
        "  testScore = math.sqrt(mean_squared_error(testY_inverse[0], testPredict[:,0]))\n",
        "  print('Test Score: %.2f RMSE' % (testScore))\n",
        "\n",
        "  trainPredictPlot = np.empty_like(dataset)\n",
        "  trainPredictPlot[:, :] = np.nan\n",
        "  trainPredictPlot[seq_len:len(trainPredict)+seq_len, :] = trainPredict\n",
        "\n",
        "  testPredictPlot = np.empty_like(dataset)\n",
        "  testPredictPlot[:, :] = np.nan\n",
        "  testPredictPlot[len(trainPredict)+(seq_len):len(dataset), :] = testPredict\n",
        "\n",
        "\n",
        "  plt.figure(figsize=(12,8))\n",
        "  plt.plot(scaler.inverse_transform(dataset))\n",
        "  plt.plot(trainPredictPlot)\n",
        "  plt.plot(testPredictPlot)\n",
        "  plt.show()"
      ],
      "execution_count": null,
      "outputs": []
    },
    {
      "cell_type": "code",
      "metadata": {
        "id": "EXFZnDC6a8pf"
      },
      "source": [
        "def predict_parts(model, trainX, trainY, testX, testY, window):\n",
        "  dataX = np.concatenate((trainX, testX))\n",
        "  dataY = np.concatenate((trainY, testY))\n",
        "\n",
        "  parts_count = int(len(testY) / window)\n",
        "  parts = []\n",
        "  for i in range(parts_count):\n",
        "    parts += [testX[i * window:(i + 1) * window]]\n",
        "  if parts_count * window < len(testX):\n",
        "    parts += [testX[parts_count * window:]]\n",
        "  \n",
        "  pred = np.empty((0, 1))\n",
        "\n",
        "  for i in range(len(parts)):\n",
        "    curr_len = len(trainX) + window * i\n",
        "    prev_len = 0\n",
        "    model.fit(dataX[prev_len:curr_len], dataY[prev_len:curr_len], verbose=0, epochs=3000)\n",
        "    pred = np.concatenate(\\\n",
        "        (pred, model.predict(dataX[curr_len:curr_len + min(window, len(dataX) - curr_len)])))\n",
        "    prev_len = curr_len\n",
        "  testPredict = scaler.inverse_transform(pred)\n",
        "  testY_inverse = scaler.inverse_transform([testY])\n",
        "\n",
        "  testScore = math.sqrt(mean_squared_error(testY_inverse[0], testPredict[:,0]))\n",
        "  return testPredict, testScore"
      ],
      "execution_count": null,
      "outputs": []
    },
    {
      "cell_type": "code",
      "metadata": {
        "id": "BRy38p6Z8EPt"
      },
      "source": [
        "def predict_full(get_model, trainX, trainY, testX, testY, count):\n",
        "  pred = np.zeros((len(testY), 1))\n",
        "  for i in range(count):\n",
        "    model = get_model()\n",
        "    model.fit(trainX, trainY, verbose=0, epochs=3000)\n",
        "    pred += model.predict(testX)\n",
        "\n",
        "  testPredict = pred / count\n",
        "  testPredict = scaler.inverse_transform(testPredict)\n",
        "  testY_inverse = scaler.inverse_transform([testY])\n",
        "\n",
        "  testScore = math.sqrt(mean_squared_error(testY_inverse[0], testPredict[:,0]))\n",
        "  return testPredict, testScore"
      ],
      "execution_count": null,
      "outputs": []
    },
    {
      "cell_type": "code",
      "metadata": {
        "id": "GG_S14gHU3kx"
      },
      "source": [
        "%%time\n",
        "count = 10\n",
        "pred, score = predict_parts(get_RNN_model(), trainX, trainY, testX, testY, 12)\n",
        "pred_full, score = predict_full(get_RNN_model, trainX, trainY, testX, testY, count)\n",
        "pred_low, score = predict_parts(get_RNN_model(), trainX, trainY, testX, testY, 1)\n",
        "print(score)"
      ],
      "execution_count": null,
      "outputs": []
    },
    {
      "cell_type": "code",
      "metadata": {
        "id": "BamD6-ve6Jz0"
      },
      "source": [
        "analyse(pd.DataFrame(pred_full, index=X_test.index),\n",
        "        pd.DataFrame(pred, index=X_test.index),\n",
        "        pd.DataFrame(pred_low, index=X_test.index))"
      ],
      "execution_count": null,
      "outputs": []
    },
    {
      "cell_type": "code",
      "metadata": {
        "id": "rD2fO68WPgxG"
      },
      "source": [
        "trainX, trainY, testX, testY = to_supervised(dataset, 18)\n",
        "dataX = np.concatenate((trainX, testX))\n",
        "dataY = np.concatenate((trainY, testY))"
      ],
      "execution_count": null,
      "outputs": []
    },
    {
      "cell_type": "code",
      "metadata": {
        "id": "fdsCu53bO2Ma"
      },
      "source": [
        "data = pd.read_csv('CityCalls.csv', ';')\n",
        "values = list(data['Calls'].values)\n",
        "data = series_to_supervised(values, n_in=6)\n",
        "data[:5]"
      ],
      "execution_count": null,
      "outputs": []
    },
    {
      "cell_type": "code",
      "metadata": {
        "id": "UxzH1-2HNmgH"
      },
      "source": [
        "data = pd.read_csv('CityCalls.csv', ';')\n",
        "data['Date'] = pd.to_datetime(data.Month)\n",
        "data = data.drop('Month', axis=1)\n",
        "data.set_index('Date', inplace=True)\n",
        "dataset = data['Calls'].values.astype('float32').reshape((len(data), 1))\n",
        "trainX, trainY, testX, testY = to_supervised(dataset, 15)\n",
        "trainX, testX = trainX[:,:,0], testX[:,:,0]"
      ],
      "execution_count": 53,
      "outputs": []
    },
    {
      "cell_type": "code",
      "metadata": {
        "id": "v8zrWeZoNAvz"
      },
      "source": [
        "def predict_parts_RF(model, trainX, trainY, testX, testY, window):\n",
        "  dataX = np.concatenate((trainX, testX))\n",
        "  dataY = np.concatenate((trainY, testY))\n",
        "\n",
        "  parts_count = int(len(testY) / window)\n",
        "  parts = []\n",
        "  for i in range(parts_count):\n",
        "    parts += [testX[i * window:(i + 1) * window]]\n",
        "  if parts_count * window < len(testX):\n",
        "    parts += [testX[parts_count * window:]]\n",
        "  \n",
        "  pred = np.empty((0))\n",
        "\n",
        "  for i in range(len(parts)):\n",
        "    curr_len = len(trainX) + window * i\n",
        "    prev_len = 0\n",
        "    model.fit(dataX[prev_len:curr_len], dataY[prev_len:curr_len])\n",
        "    pred = np.concatenate(\\\n",
        "        (pred, model.predict(dataX[curr_len:curr_len + min(window, len(dataX) - curr_len)])))\n",
        "    prev_len = curr_len\n",
        "\n",
        "  testScore = math.sqrt(mean_squared_error(testY, pred))\n",
        "  return pred, testScore"
      ],
      "execution_count": 54,
      "outputs": []
    },
    {
      "cell_type": "code",
      "metadata": {
        "id": "RO5cqBzIMvk4"
      },
      "source": [
        "def predict_full_RF(model, trainX, trainY, testX, testY):\n",
        "  model.fit(trainX, trainY)\n",
        "  pred = model.predict(testX)\n",
        "  testScore = math.sqrt(mean_squared_error(testY, pred))\n",
        "  return pred, testScore"
      ],
      "execution_count": 55,
      "outputs": []
    },
    {
      "cell_type": "code",
      "metadata": {
        "id": "5TqaBJuOT8b0"
      },
      "source": [
        "from sklearn.ensemble import RandomForestRegressor\n",
        "def get_RF_model():\n",
        "  return RandomForestRegressor()"
      ],
      "execution_count": 56,
      "outputs": []
    },
    {
      "cell_type": "code",
      "metadata": {
        "id": "WKlVBFPVTuCn"
      },
      "source": [
        "full, score = predict_full_RF(get_RF_model(), trainX, trainY, testX, testY)\n",
        "mid, score = predict_parts_RF(get_RF_model(), trainX, trainY, testX, testY, 12)\n",
        "low, score = predict_parts_RF(get_RF_model(), trainX, trainY, testX, testY, 1)\n",
        "\n",
        "analyse(pd.DataFrame(full, index=X_test.index),\n",
        "        pd.DataFrame(mid, index=X_test.index),\n",
        "        pd.DataFrame(low, index=X_test.index))"
      ],
      "execution_count": null,
      "outputs": []
    }
  ]
}