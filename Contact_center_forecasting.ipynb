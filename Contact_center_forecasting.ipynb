{
  "nbformat": 4,
  "nbformat_minor": 0,
  "metadata": {
    "colab": {
      "name": "Contact_center_forecasting.ipynb",
      "provenance": [],
      "machine_shape": "hm",
      "mount_file_id": "1tb2c_J3j8JaVyxTEI9AbRWRfX_C9hlBL",
      "authorship_tag": "ABX9TyMcUa0M8zvX+LnExhLxv6cr",
      "include_colab_link": true
    },
    "kernelspec": {
      "name": "python3",
      "display_name": "Python 3"
    },
    "language_info": {
      "name": "python"
    },
    "accelerator": "GPU"
  },
  "cells": [
    {
      "cell_type": "markdown",
      "metadata": {
        "id": "view-in-github",
        "colab_type": "text"
      },
      "source": [
        "<a href=\"https://colab.research.google.com/github/VSPlekhanov/TimeSeriesForecasting_analysis/blob/main/Contact_center_forecasting.ipynb\" target=\"_parent\"><img src=\"https://colab.research.google.com/assets/colab-badge.svg\" alt=\"Open In Colab\"/></a>"
      ]
    },
    {
      "cell_type": "code",
      "metadata": {
        "id": "H1cR2lgDRZpP"
      },
      "source": [
        "import pandas as pd\n",
        "import matplotlib.pyplot as plt\n",
        "import numpy as np\n",
        "import seaborn as sns\n",
        "import re\n",
        "import math\n",
        "from sklearn.ensemble import RandomForestRegressor\n",
        "from sklearn.model_selection import train_test_split\n",
        "from sklearn.metrics import *"
      ],
      "execution_count": 1,
      "outputs": []
    },
    {
      "cell_type": "code",
      "metadata": {
        "id": "tqS-tur_RcCI"
      },
      "source": [
        "%%time\n",
        "# get Divvy Bicycle Sharing data and modify it \n",
        "data = pd.read_csv('drive/MyDrive/Diploma/data/data_raw.csv')\n",
        "\n",
        "data = data.drop(columns=['from_station_id', 'from_station_name', \\\n",
        "                          'to_station_id', 'to_station_name', 'latitude_start',\\\n",
        "                          'longitude_start', 'latitude_end', 'latitude_end', \\\n",
        "                          'longitude_end', 'trip_id', 'usertype', 'stoptime',\\\n",
        "                          'tripduration', 'dpcapacity_start', 'dpcapacity_end',\\\n",
        "                          'gender'], axis=1) \n",
        "\n",
        "data['yr'] = data.starttime.apply(func=lambda x: re.split('[-: ]', x)[0])\n",
        "data['mo'] = data.starttime.apply(func=lambda x: re.split('[-: ]', x)[1])\n",
        "data['day'] = data.starttime.apply(func=lambda x: re.split('[-: ]', x)[2])\n",
        "data['hr'] = data.starttime.apply(func=lambda x: re.split('[-: ]', x)[3])\n",
        "\n",
        "data = data.groupby(['yr', 'mo', 'day', 'hr'], as_index=False).agg({'starttime': 'count', 'temperature': 'min', 'windchill': 'min', 'dewpoint': 'min',\\\n",
        "          'humidity': 'min', 'pressure': 'min', 'visibility': 'min', 'wind_speed': 'min',\\\n",
        "          'precipitation': 'min', 'events': 'min', 'rain': 'min', 'conditions': 'min'})\\\n",
        "            .rename({'starttime': 'y'}, axis=1)"
      ],
      "execution_count": null,
      "outputs": []
    },
    {
      "cell_type": "code",
      "metadata": {
        "id": "4kOIYlYpcr6v"
      },
      "source": [
        "# get weather data and modify it\n",
        "humidity = pd.read_csv('drive/MyDrive/Diploma/data/weather/humidity.csv')\n",
        "pressure = pd.read_csv('drive/MyDrive/Diploma/data/weather/pressure.csv')\n",
        "temperature = pd.read_csv('drive/MyDrive/Diploma/data/weather/temperature.csv')\n",
        "weather_description = pd.read_csv('drive/MyDrive/Diploma/data/weather/weather_description.csv')\n",
        "wind_direction = pd.read_csv('drive/MyDrive/Diploma/data/weather/wind_direction.csv')\n",
        "wind_speed = pd.read_csv('drive/MyDrive/Diploma/data/weather/wind_speed.csv')\n",
        "\n",
        "weather = pd.DataFrame()\n",
        "weather['datetime'] = humidity.datetime\n",
        "weather['humidity'] = humidity.Chicago\n",
        "weather['pressure'] = pressure.Chicago\n",
        "weather['temperature'] = temperature.Chicago\n",
        "weather['weather_description'] = weather_description.Chicago\n",
        "weather['wind_direction'] = wind_direction.Chicago\n",
        "weather['wind_speed'] = wind_speed.Chicago\n",
        "\n",
        "weather = weather.drop(np.arange(0,6400))\n",
        "\n",
        "weather['yr'] = weather.datetime.apply(func=lambda x: re.split('[-: ]', x)[0])\n",
        "weather['mo'] = weather.datetime.apply(func=lambda x: re.split('[-: ]', x)[1])\n",
        "weather['day'] = weather.datetime.apply(func=lambda x: re.split('[-: ]', x)[2])\n",
        "weather['hr'] = weather.datetime.apply(func=lambda x: re.split('[-: ]', x)[3])"
      ],
      "execution_count": 3,
      "outputs": []
    },
    {
      "cell_type": "code",
      "metadata": {
        "id": "6juLefo7cyvS"
      },
      "source": [
        "# merge those 2 datasets\n",
        "all_data = data.merge(weather, 'inner', on=['yr', 'mo', 'day', 'hr'], suffixes=('_1', '_2'))"
      ],
      "execution_count": 4,
      "outputs": []
    },
    {
      "cell_type": "code",
      "metadata": {
        "id": "zKJ-WggCc2FW"
      },
      "source": [
        "# calculate working and non-working days\n",
        "holidays_set = {\n",
        "    '04-07-2013',\n",
        "    '02-09-2013','14-10-2013','11-11-2013','28-11-2013','25-12-2013',\n",
        "    '01-01-2014','20-01-2014','17-02-2014','26-03-2014','04-07-2014',\n",
        "    '01-09-2014','13-10-2014','11-11-2014','27-11-2014','25-12-2014',\n",
        "    '01-01-2015','19-01-2015','16-02-2015','25-03-2015','03-07-2015',\n",
        "    '07-09-2015','12-10-2015','11-11-2015','26-11-2015','25-12-2015',\n",
        "    '01-01-2016','18-01-2016','15-02-2016','30-03-2016','04-07-2016',\n",
        "    '05-09-2016','10-10-2016','11-11-2016','24-11-2016','26-12-2016',\n",
        "    '02-01-2017','16-01-2017','20-02-2017','29-03-2017','04-07-2017',\n",
        "    '04-09-2017','09-10-2017','10-11-2017','23-11-2017','25-12-2017',\n",
        "}\n",
        "\n",
        "month_days_count = \\\n",
        "{0:0, 1:31, 2:59, 3:90, 4:120, 5:151, 6:181, 7:212, 8:243, 9:273, 10:304, 11:334}\n",
        "\n",
        "week = \\\n",
        "{0: 'workday', 1: 'workday', 2: 'workday', 3: 'workday', 4: 'weekend', 5:'weekend', 6: 'workday'}\n",
        "\n",
        "def day_type_calculation(row):\n",
        "    date = f'{row[\"day\"]}-{row[\"mo\"]}-{row[\"yr\"]}'\n",
        "    if date in holidays_set:\n",
        "        return 'holiday'\n",
        "    days, mo, yr = int(row['day']), int(row['mo']), int(row['yr'])\n",
        "    mdays = month_days_count[mo - 1]\n",
        "    if yr % 4 == 0 and mo > 2: mdays += 1    \n",
        "    day_of_week = (int((yr - 2013) * 365.25) + mdays + days - 1) % 7\n",
        "    return week[day_of_week] \n",
        "\n",
        "all_data['day_type'] = all_data.apply(lambda x: day_type_calculation(x), axis=1)"
      ],
      "execution_count": 5,
      "outputs": []
    },
    {
      "cell_type": "code",
      "metadata": {
        "id": "1GMTfikyc4-k"
      },
      "source": [
        "# get rid of nans\n",
        "all_data['humidity_2'] = all_data.apply(lambda x: \\\n",
        "                                        x['humidity_1'] if np.isnan(x['humidity_2'])\\\n",
        "                                        else x['humidity_2'], axis=1)\n",
        "all_data['pressure_2'] = all_data.apply(lambda x: \\\n",
        "                                        x['pressure_1'] if np.isnan(x['pressure_2'])\\\n",
        "                                        else x['pressure_2'], axis=1)\n",
        "all_data['humidity_1'] = all_data.apply(lambda x: \\\n",
        "                                        x['humidity_2'] if np.isnan(x['humidity_1'])\\\n",
        "                                        else x['humidity_1'], axis=1)\n",
        "all_data['temperature_1'] = all_data.apply(lambda x: \\\n",
        "                                        x['temperature_1'] if x['temperature_1'] > -50\\\n",
        "                                        else x['temperature_2'], axis=1)"
      ],
      "execution_count": 6,
      "outputs": []
    },
    {
      "cell_type": "code",
      "metadata": {
        "id": "6RdDeOk9c7EN"
      },
      "source": [
        "# amend all non-numeric values with numbers, deal with strange values\n",
        "all_data.loc[all_data['windchill'] < 0, 'windchill'] = 0\n",
        "all_data.loc[all_data['precipitation'] < 0, 'precipitation'] = 0\n",
        "\n",
        "events = {'clear': 0, 'partlycloudy': 1, 'mostlycloudy': 2, 'cloudy': 3, 'fog': 4, \n",
        "          'hazy': 5,'snow': 6, 'sleet': 7, 'rain': 8, 'tstorms': 9, 'unknown': 10}\n",
        "all_data['events'] = all_data['events'].apply(lambda x: events[x]) \n",
        "\n",
        "conditions = {\n",
        "    'Clear': 0, 'Partly Cloudy': 1, 'Scattered Clouds': 2, 'Mostly Cloudy': 3, 'Overcast': 4,\n",
        "    'Patches of Fog': 5, 'Shallow Fog': 6, 'Mist': 7, 'Light Freezing Fog': 8, 'Fog': 9, \n",
        "    'Haze': 10, 'Smoke': 11, 'Light Drizzle': 12, 'Light Freezing Drizzle': 13, 'Drizzle': 14, \n",
        "    'Light Hail': 15, 'Light Ice Pellets': 16, 'Ice Pellets': 17, 'Light Snow': 18, 'Snow': 19,\n",
        "    'Heavy Snow': 20, 'Blowing Snow': 21, 'Thunderstorm': 22,\n",
        "    'Light Thunderstorms with Hail': 23, 'Light Rain': 24, 'Light Freezing Rain': 25, \n",
        "    'Light Thunderstorms and Rain': 26, 'Rain': 27, 'Freezing Rain': 28,\n",
        "    'Thunderstorms and Rain': 29, 'Heavy Rain': 30, 'Heavy Thunderstorms and Rain': 31,\n",
        "    'Unknown': 32}\n",
        "all_data['conditions'] = all_data['conditions'].apply(lambda x: conditions[x]) \n",
        "\n",
        "weather_description = {\n",
        "    'thunderstorm': 0, 'mist': 1, 'thunderstorm with rain': 2, 'light rain': 3, \n",
        "    'moderate rain': 4, 'scattered clouds': 5, 'few clouds': 6, 'broken clouds': 7, \n",
        "    'overcast clouds': 8, 'sky is clear': 9, 'proximity thunderstorm': 10, \n",
        "    'thunderstorm with light rain': 11, 'haze': 12, 'heavy intensity rain': 13, \n",
        "    'thunderstorm with heavy rain': 14, 'light intensity drizzle': 15, 'very heavy rain': 16,\n",
        "    'fog': 17, 'drizzle': 18, 'light snow': 19, 'heavy intensity drizzle': 20, 'snow': 21, \n",
        "    'thunderstorm with drizzle': 22, 'proximity thunderstorm with rain': 23, 'heavy snow': 24,\n",
        "    'proximity thunderstorm with drizzle': 25, 'squalls': 26, 'freezing rain': 27, \n",
        "    'thunderstorm with light drizzle': 28, 'smoke': 29, 'dust': 30, \n",
        "    'proximity shower rain': 31}\n",
        "\n",
        "all_data['weather_description'] = all_data['weather_description'].apply(lambda x: weather_description[x]) \n",
        "\n",
        "day_types = {'workday': 0, 'weekend': 1, 'holiday': 2}\n",
        "all_data['day_type'] = all_data['day_type'].apply(lambda x: day_types[x]) \n"
      ],
      "execution_count": 7,
      "outputs": []
    },
    {
      "cell_type": "code",
      "metadata": {
        "id": "nf2T5p4Atetu"
      },
      "source": [
        "all_data = all_data.drop(['datetime'], axis=1)"
      ],
      "execution_count": null,
      "outputs": []
    },
    {
      "cell_type": "code",
      "metadata": {
        "id": "ZuuznF82lbBm"
      },
      "source": [
        "daily_data = all_data.groupby(['yr', 'mo', 'day'], as_index=False).agg({'temperature_1': 'mean', 'windchill':'mean', 'dewpoint':'mean', 'humidity_1':'mean', \\\n",
        "                                                           'pressure_1':'mean', 'visibility':'mean', 'wind_speed_1':'mean', 'precipitation':'mean',\\\n",
        "                                                           'rain': 'max', 'humidity_2':'mean', 'pressure_2':'mean', 'temperature_2': 'mean', \\\n",
        "                                                           'wind_speed_2': 'mean', 'day_type': 'max', 'y':'sum'})"
      ],
      "execution_count": 401,
      "outputs": []
    },
    {
      "cell_type": "code",
      "metadata": {
        "id": "x0KIn8_AdBV8"
      },
      "source": [
        "y = daily_data['y']\n",
        "daily_data = daily_data.drop('y', axis=1)"
      ],
      "execution_count": 10,
      "outputs": []
    },
    {
      "cell_type": "code",
      "metadata": {
        "id": "pV-EjhPhwcQR"
      },
      "source": [
        "y_train, y_test = train_test_split(y, shuffle=False)\n",
        "x_train, x_test = train_test_split(daily_data,shuffle=False)"
      ],
      "execution_count": 11,
      "outputs": []
    },
    {
      "cell_type": "code",
      "metadata": {
        "id": "76rc3XdXwGSl"
      },
      "source": [
        "plt.figure(figsize=(12,8))\n",
        "\n",
        "plt.plot(y, label='count')\n",
        "plt.legend()\n",
        "\n",
        "plt.show()"
      ],
      "execution_count": null,
      "outputs": []
    },
    {
      "cell_type": "code",
      "metadata": {
        "id": "SIqDLzxio8Or"
      },
      "source": [
        "from sklearn.ensemble import RandomForestRegressor\n",
        "rf = RandomForestRegressor(100).fit(x_train, y_train)\n",
        "rf_predict = rf.predict(x_test)"
      ],
      "execution_count": 13,
      "outputs": []
    },
    {
      "cell_type": "code",
      "metadata": {
        "id": "xV5bm7_gtSxr"
      },
      "source": [
        "math.sqrt(mean_squared_error(y_test.values, rf_predict))"
      ],
      "execution_count": null,
      "outputs": []
    },
    {
      "cell_type": "code",
      "metadata": {
        "id": "gnJ9nc32w3EM"
      },
      "source": [
        "def get_fi_plot(fi):\n",
        "    feature_importances_df = pd.DataFrame({'features':list(x_train.columns), \n",
        "                                       'feature_importances':  fi})\\\n",
        "                        .sort_values(by='feature_importances')\n",
        "\n",
        "    f, ax = plt.subplots(figsize=(6, 6))\n",
        "    sns.barplot(y=feature_importances_df.features, x=feature_importances_df.feature_importances)\n",
        "\n",
        "    plt.xlabel('Важность атрибутов')\n",
        "    plt.ylabel('Атрибуты')\n",
        "    plt.title(\"Наиболее важные атрибуты\")\n",
        "    plt.show()"
      ],
      "execution_count": 15,
      "outputs": []
    },
    {
      "cell_type": "code",
      "metadata": {
        "id": "zcL5ZX6Mx01x"
      },
      "source": [
        "get_fi_plot(rf.feature_importances_)"
      ],
      "execution_count": null,
      "outputs": []
    },
    {
      "cell_type": "code",
      "metadata": {
        "id": "1O8Z0yXZw9HB"
      },
      "source": [
        "daily_data = daily_data.drop(['temperature_2', 'dewpoint', 'day', 'windchill', 'wind_speed_2', 'pressure_2', 'humidity_2', 'visibility', 'pressure_1', 'precipitation', 'wind_speed_1', 'mo', 'humidity_1'], axis=1)\n",
        "daily_data = daily_data.drop(['rain', 'day_type'], axis=1)"
      ],
      "execution_count": 17,
      "outputs": []
    },
    {
      "cell_type": "code",
      "metadata": {
        "id": "hytP-CEk0w6E"
      },
      "source": [
        "y_train, y_test = train_test_split(y, shuffle=False)\n",
        "x_train, x_test = train_test_split(daily_data,shuffle=False)"
      ],
      "execution_count": 18,
      "outputs": []
    },
    {
      "cell_type": "code",
      "metadata": {
        "id": "kiLM5gM3wqaO"
      },
      "source": [
        "# Тест Дики-Фулера\n",
        "from statsmodels.tsa.stattools import adfuller\n",
        "adf, pvalue, usedlag_, nobs_, critical_values_, icbest_ = adfuller(y)\n",
        "print(\"pvalue = \", pvalue, \" если больще 0.05, временной ряд не стацонарен\")"
      ],
      "execution_count": null,
      "outputs": []
    },
    {
      "cell_type": "code",
      "metadata": {
        "id": "XrXoDj_w7ZSa"
      },
      "source": [
        "data = daily_data\n",
        "y = pd.DataFrame(y)\n",
        "y = y.set_index(pd.date_range(\"2013-06-27\", periods=1615, freq=\"D\"))"
      ],
      "execution_count": 19,
      "outputs": []
    },
    {
      "cell_type": "code",
      "metadata": {
        "id": "O51uI7Fy7HUX"
      },
      "source": [
        "size = int(len(data) * 0.66)\n",
        "X_train, X_test = data[:size], data[size:len(data)]\n",
        "y_train, y_test = y[:size], y[size:len(y)]"
      ],
      "execution_count": 20,
      "outputs": []
    },
    {
      "cell_type": "code",
      "metadata": {
        "id": "9zgG-DoE7XJL"
      },
      "source": [
        "s = 364\n",
        "prediction = y.copy()\n",
        "for i in range(len(y_test)):\n",
        "  prev = prediction['y'][len(y_train) + i - s]\n",
        "  prediction['y'][len(y_train) + i] = prev"
      ],
      "execution_count": 21,
      "outputs": []
    },
    {
      "cell_type": "code",
      "metadata": {
        "id": "xCf--DTH7tQt"
      },
      "source": [
        "plt.figure(figsize=(12,8))\n",
        "plt.plot(y, label='Данные', color='blue')\n",
        "plt.plot(prediction[len(X_train):], label='Прогноз', color='red')\n",
        "plt.legend()\n",
        "testScore = math.sqrt(mean_squared_error(y_test, prediction[len(y_train):]))\n",
        "print('Корень среднеквадратичного отклонения на проверяющей выборке: %.2f' % (testScore))"
      ],
      "execution_count": null,
      "outputs": []
    },
    {
      "cell_type": "code",
      "metadata": {
        "id": "LyYQEWRgCWWw"
      },
      "source": [
        "def predict_full(model, data, start=len(y_train)):\n",
        "  model = model.fit()\n",
        "  pred = model.predict(start=start, end=len(data)-1)\n",
        "\n",
        "  return pred"
      ],
      "execution_count": 22,
      "outputs": []
    },
    {
      "cell_type": "code",
      "metadata": {
        "id": "7V7i5mSRFydW"
      },
      "source": [
        "def predict_window(modelCreationFunc, data, window, start=len(y_train)):\n",
        "  curr_start = start\n",
        "  pred = pd.Series(dtype='float64')\n",
        "  while curr_start < len(data):\n",
        "    model = modelCreationFunc(data[:curr_start])\n",
        "    model = model.fit()\n",
        "    pred = pred.append(model.predict(start=curr_start, end=min(curr_start + window - 1, len(data) - 1)))\n",
        "    curr_start += window\n",
        "\n",
        "  return pred"
      ],
      "execution_count": 23,
      "outputs": []
    },
    {
      "cell_type": "code",
      "metadata": {
        "id": "Ivcwp5QzF0SG"
      },
      "source": [
        "def analyse(full, mid, low):\n",
        "  testScore = math.sqrt(mean_squared_error(y_test, full))\n",
        "  print('Корень среднеквадратичного отклонения при полном прогнозе: %.2f' % (testScore))\n",
        "\n",
        "  testScore = math.sqrt(mean_squared_error(y_test, mid))\n",
        "  print('Корень среднеквадратичного отклонения при прогнозе на год: %.2f' % (testScore))\n",
        "\n",
        "  testScore = math.sqrt(mean_squared_error(y_test, low))\n",
        "  print('Корень среднеквадратичного отклонения при прогнозе на месяц: %.2f' % (testScore))\n",
        "\n",
        "  fig, ax = plt.subplots(nrows=2, ncols=2)\n",
        "  fig.set_figheight(12)\n",
        "  fig.set_figwidth(15)\n",
        "\n",
        "  ax[0][0].plot(y_test, label='Данные', color='blue')\n",
        "  ax[0][0].plot(full, label='Прогноз на весь промежуток', color='red')\n",
        "  ax[0][0].plot(mid, label='Прогноз на год', color='green')\n",
        "  ax[0][0].plot(low, label='Прогноз на месяц', color='purple')\n",
        "  ax[0][0].legend(loc='best');\n",
        "\n",
        "  ax[0][1].plot(y_test, label='Данные', color='blue')\n",
        "  ax[0][1].plot(full, label='Прогноз на весь промежуток', color='red')\n",
        "  ax[0][1].legend(loc='best');\n",
        "\n",
        "  ax[1][0].plot(y_test, label='Данные', color='blue')\n",
        "  ax[1][0].plot(mid, label='Прогноз на год', color='green')\n",
        "  ax[1][0].legend(loc='best');\n",
        "\n",
        "  ax[1][1].plot(y_test, label='Данные', color='blue')\n",
        "  ax[1][1].plot(low, label='Прогноз на месяц', color='purple')\n",
        "  ax[1][1].legend(loc='best');"
      ],
      "execution_count": 24,
      "outputs": []
    },
    {
      "cell_type": "code",
      "metadata": {
        "id": "kVti0PB_F14I"
      },
      "source": [
        "def get_ES_model(train):\n",
        "  return ExponentialSmoothing(train, seasonal='add', seasonal_periods=364, freq='D')"
      ],
      "execution_count": 25,
      "outputs": []
    },
    {
      "cell_type": "code",
      "metadata": {
        "id": "BB7QndK9F4vW"
      },
      "source": [
        "%%time\n",
        "from statsmodels.tsa.holtwinters import ExponentialSmoothing\n",
        "\n",
        "full = predict_full(get_ES_model(y_train), y)\n",
        "mid = predict_window(get_ES_model, y, 120)\n",
        "low = predict_window(get_ES_model, y, 14)\n",
        "\n",
        "analyse(full, mid, low)"
      ],
      "execution_count": null,
      "outputs": []
    },
    {
      "cell_type": "code",
      "metadata": {
        "id": "sJO6tGsLZS-R"
      },
      "source": [
        "year = data['yr'].values.astype('int').reshape(len(data), 1)\n",
        "temp = data['temperature_1'].values.reshape(len(data), 1)\n",
        "exog = np.concatenate((year, temp), axis=1)"
      ],
      "execution_count": 26,
      "outputs": []
    },
    {
      "cell_type": "code",
      "metadata": {
        "id": "KEroCTACGKPy"
      },
      "source": [
        "def get_ARIMA(data, ex):\n",
        "  return SARIMAX(endog=data['y'], order=(1,0,1),\\\n",
        "                 seasonal_order=(0,0,0,0),\\\n",
        "                 exog=ex,\\\n",
        "                 freq='D')"
      ],
      "execution_count": 196,
      "outputs": []
    },
    {
      "cell_type": "code",
      "metadata": {
        "id": "BNytzb-XKYgy"
      },
      "source": [
        "def predict_window_ARIMA(modelCreationFunc, data, window, start=len(X_train), exog=[]):\n",
        "  curr_start = start\n",
        "  pred = pd.Series(dtype='float64')\n",
        "  while curr_start < len(data):\n",
        "    end = min(curr_start + window - 1, len(data) - 1)\n",
        "    model = modelCreationFunc(data[:curr_start], exog[:curr_start])\n",
        "    model = model.fit()\n",
        "    p = model.predict(start=curr_start, end=end, exog=exog[curr_start:end+1])\n",
        "    pred = pred.append(p)\n",
        "    curr_start += window\n",
        "\n",
        "  return pred"
      ],
      "execution_count": 197,
      "outputs": []
    },
    {
      "cell_type": "code",
      "metadata": {
        "id": "YuPieYpfKbVN"
      },
      "source": [
        "def predict_full_ARIMA(model, data, start=len(X_train), exog=[]):\n",
        "  model = model.fit(iprint=0)\n",
        "  pred = model.predict(start=start, end=len(data)-1, exog=exog)\n",
        "\n",
        "  return pred"
      ],
      "execution_count": 198,
      "outputs": []
    },
    {
      "cell_type": "code",
      "metadata": {
        "id": "2xAwYsG9bL2n"
      },
      "source": [
        "%%time\n",
        "from statsmodels.tsa.statespace.sarimax import SARIMAX\n",
        "model = get_ARIMA(y_train, exog[:len(X_train)])\n",
        "full = predict_full_ARIMA(model, y, exog=exog[len(X_train):])\n",
        "mid = predict_window_ARIMA(get_ARIMA, y, 120, exog=exog)\n",
        "low = predict_window_ARIMA(get_ARIMA, y, 14, exog=exog)\n",
        "analyse(full, mid, low)"
      ],
      "execution_count": null,
      "outputs": []
    },
    {
      "cell_type": "code",
      "metadata": {
        "id": "fGzMR8yaelA0"
      },
      "source": [
        "from keras.models import Sequential\n",
        "from keras.layers import Dense\n",
        "from sklearn.preprocessing import MinMaxScaler\n",
        "import numpy as np\n",
        "from tensorflow import random\n",
        "\n",
        "np.random.seed(1)\n",
        "random.set_seed(2)"
      ],
      "execution_count": 27,
      "outputs": []
    },
    {
      "cell_type": "code",
      "metadata": {
        "id": "f9COm_r6jvPL"
      },
      "source": [
        "dataset = y.values.astype('float32')\n",
        "scaler = MinMaxScaler(feature_range=(0,1))\n",
        "dataset = scaler.fit_transform(dataset)"
      ],
      "execution_count": 125,
      "outputs": []
    },
    {
      "cell_type": "code",
      "metadata": {
        "id": "xoJOBeWpuPIN"
      },
      "source": [
        "datasetX = daily_data.copy()\n",
        "datasetX = scaler.fit_transform(datasetX)"
      ],
      "execution_count": null,
      "outputs": []
    },
    {
      "cell_type": "code",
      "metadata": {
        "id": "Guhb3v4PjxBa"
      },
      "source": [
        "train_size = int(len(dataset) * 0.66)\n",
        "test_size = len(dataset) - train_size\n",
        "train, test = dataset[0:train_size], dataset[train_size:len(dataset)]"
      ],
      "execution_count": 63,
      "outputs": []
    },
    {
      "cell_type": "code",
      "metadata": {
        "id": "MIfQsGa-0zmG"
      },
      "source": [
        "all_dataset = np.concatenate((datasetX, dataset), axis=1)"
      ],
      "execution_count": 69,
      "outputs": []
    },
    {
      "cell_type": "code",
      "metadata": {
        "id": "SWSn-ozYxPm_"
      },
      "source": [
        "def predict_full_train(get_model, trainX, trainY, testX, testY):\n",
        "  model = get_model()\n",
        "  model.fit(trainX, trainY, verbose=0, epochs=300, validation_data=(testX, testY))\n",
        "  pred = model.predict(trainX)\n",
        "\n",
        "  trainPredict = scaler.inverse_transform(pred)\n",
        "  trainY_inverse = scaler.inverse_transform([trainY])\n",
        "\n",
        "  trainScore = math.sqrt(mean_squared_error(trainY_inverse[0], trainPredict[:,0]))\n",
        "\n",
        "  return trainScore\n",
        "  # return pred"
      ],
      "execution_count": 283,
      "outputs": []
    },
    {
      "cell_type": "code",
      "metadata": {
        "id": "YFlsHjWV4WbJ"
      },
      "source": [
        "%%time\n",
        "predict_full_train(get_FFNN_model, trainX, trainY, testX, testY)"
      ],
      "execution_count": null,
      "outputs": []
    },
    {
      "cell_type": "code",
      "metadata": {
        "id": "JjFuv_y6_VxX"
      },
      "source": [
        "def predict_full(func, trainX, trainY, testX, testY, count, epochs=100):\n",
        "  pred = np.zeros((len(testY), 1))\n",
        "  for i in range(count):\n",
        "    model = func()\n",
        "    model.fit(trainX, trainY, verbose=0, epochs=epochs)\n",
        "    pred += model.predict(testX)\n",
        "\n",
        "  testPredict = pred / count\n",
        "  testPredict = scaler.inverse_transform(testPredict)\n",
        "  testY_inverse = scaler.inverse_transform([testY])\n",
        "\n",
        "  testScore = math.sqrt(mean_squared_error(testY_inverse[0], testPredict[:,0]))\n",
        "  return testPredict, testScore"
      ],
      "execution_count": 285,
      "outputs": []
    },
    {
      "cell_type": "code",
      "metadata": {
        "id": "R2i8_qzqAVfr"
      },
      "source": [
        "def predict_parts(model, trainX, trainY, testX, testY, window, epochs):\n",
        "  dataX = np.concatenate((trainX, testX))\n",
        "  dataY = np.concatenate((trainY, testY))\n",
        "\n",
        "  parts_count = int(len(testY) / window)\n",
        "  parts = []\n",
        "  for i in range(parts_count):\n",
        "    parts += [testX[i * window:(i + 1) * window]]\n",
        "  if parts_count * window < len(testX):\n",
        "    parts += [testX[parts_count * window:]]\n",
        "  \n",
        "  pred = np.empty((0, 1))\n",
        "\n",
        "  for i in range(len(parts)):\n",
        "    curr_len = len(trainX) + window * i\n",
        "    prev_len = 0\n",
        "    \n",
        "    model.fit(dataX[prev_len:curr_len], dataY[prev_len:curr_len], verbose=0, epochs=epochs)\n",
        "    pred = np.concatenate(\\\n",
        "        (pred, model.predict(dataX[curr_len:curr_len + min(window, len(dataX) - curr_len)])))\n",
        "    prev_len = curr_len\n",
        "  testPredict = scaler.inverse_transform(pred)\n",
        "  testY_inverse = scaler.inverse_transform([testY])\n",
        "\n",
        "  testScore = math.sqrt(mean_squared_error(testY_inverse[0], testPredict[:,0]))\n",
        "  return testPredict, testScore"
      ],
      "execution_count": 286,
      "outputs": []
    },
    {
      "cell_type": "code",
      "metadata": {
        "id": "V-6Fh8zmAxNb"
      },
      "source": [
        "trainDF = y[:train_size]\n",
        "testDF = y[train_size:]"
      ],
      "execution_count": 176,
      "outputs": []
    },
    {
      "cell_type": "code",
      "metadata": {
        "id": "aNa4cPMU6n66"
      },
      "source": [
        "seq_len = 18\n",
        "trainX, testX, trainY, testY = [], [], [], []\n",
        "for i in range(train_size - seq_len):\n",
        "  trainX.append(train[i:i + seq_len, 0])\n",
        "  trainY.append(train[i+seq_len, 0])\n",
        "\n",
        "for i in range(test_size):\n",
        "  testX.append(dataset[train_size + i - seq_len: train_size + i, 0])\n",
        "  testY.append(test[i, 0])\n",
        "\n",
        "trainX = np.array(trainX)\n",
        "testX = np.array(testX)\n",
        "trainY = np.array(trainY)\n",
        "testY = np.array(testY)"
      ],
      "execution_count": 321,
      "outputs": []
    },
    {
      "cell_type": "code",
      "metadata": {
        "id": "FZ4_hJko4UZ4"
      },
      "source": [
        "def get_FFNN_model():\n",
        "  model = Sequential()\n",
        "  model.add(Dense(512, input_dim=seq_len, activation='relu'))\n",
        "  model.add(Dense(512, activation='relu'))\n",
        "  model.add(Dense(1))\n",
        "  print(model.output_shape)  \n",
        "  model.compile(loss='mean_squared_error', optimizer='adam', metrics = ['acc'])\n",
        "  return model"
      ],
      "execution_count": 322,
      "outputs": []
    },
    {
      "cell_type": "code",
      "metadata": {
        "id": "39thdqTAAVkR"
      },
      "source": [
        "%%time\n",
        "pred = predict_parts(get_FFNN_model(), trainX, trainY, testX, testY, 120, 500)[0]\n",
        "pred_full, score = predict_full(get_FFNN_model, trainX, trainY, testX, testY, 1, 1000)\n",
        "pred_low, score = predict_parts(get_FFNN_model(), trainX, trainY, testX, testY, 14, 200)"
      ],
      "execution_count": null,
      "outputs": []
    },
    {
      "cell_type": "code",
      "metadata": {
        "id": "Ia09tsn7dkYA"
      },
      "source": [
        "analyse(pd.DataFrame(pred_full, index=testDF.index),\n",
        "        pd.DataFrame(pred_full, index=testDF.index),\n",
        "        pd.DataFrame(pred_full, index=testDF.index))"
      ],
      "execution_count": null,
      "outputs": []
    },
    {
      "cell_type": "code",
      "metadata": {
        "id": "weDkrb9ZAg37"
      },
      "source": [
        "analyse(pd.DataFrame(pred_full, index=testDF.index),\n",
        "        pd.DataFrame(pred, index=testDF.index),\n",
        "        pd.DataFrame(pred_low, index=testDF.index))"
      ],
      "execution_count": null,
      "outputs": []
    },
    {
      "cell_type": "code",
      "metadata": {
        "id": "-uE7unDjAhCj"
      },
      "source": [
        "plt.figure(figsize=(12,8))\n",
        "plt.plot(testDF[:100], lw=4)\n",
        "plt.plot(pd.DataFrame(pred_low, index=testDF.index)[:100], color='red', lw=4)"
      ],
      "execution_count": null,
      "outputs": []
    },
    {
      "cell_type": "code",
      "metadata": {
        "id": "BGOS7c0N1EqX"
      },
      "source": [
        "seq_len = 20\n",
        "trainX, trainY = [], []\n",
        "for i in range(seq_len, train_size):\n",
        "  trainX.append(all_dataset[i - seq_len:i,:])\n",
        "  trainY.append(dataset[i])\n",
        "\n",
        "testX, testY = [], []\n",
        "for i in range(train_size, len(dataset)):\n",
        "  testX.append(all_dataset[i - seq_len:i,:])\n",
        "  testY.append(dataset[i])\n",
        "\n",
        "trainX = np.array(trainX)\n",
        "testX = np.array(testX)\n",
        "trainY = np.array(trainY)\n",
        "testY = np.array(testY)"
      ],
      "execution_count": 257,
      "outputs": []
    },
    {
      "cell_type": "code",
      "metadata": {
        "id": "5FcYHKbkDUzr"
      },
      "source": [
        "import numpy as np\n",
        "import matplotlib.pyplot as plt\n",
        "from pandas import read_csv\n",
        "import math\n",
        "\n",
        "from keras.models import Sequential\n",
        "from keras.layers import Dense, SimpleRNN, LSTM\n",
        "from sklearn.preprocessing import MinMaxScaler\n",
        "from sklearn.metrics import mean_squared_error\n",
        "from tensorflow import random\n",
        "\n",
        "np.random.seed(1)\n",
        "random.set_seed(2)\n",
        "num_features = 1"
      ],
      "execution_count": 235,
      "outputs": []
    },
    {
      "cell_type": "code",
      "metadata": {
        "id": "4Etrrsq7C-QA"
      },
      "source": [
        "def get_RNN_model():\n",
        "  print('get model')\n",
        "  model = Sequential()\n",
        "  model.add(SimpleRNN(150, input_shape=trainX.shape[1:], activation='relu', return_sequences=True)) #12\n",
        "  model.add(SimpleRNN(150, activation='relu')) #12\n",
        "  model.add(Dense(1))\n",
        "  model.compile(loss='mean_squared_error', optimizer='adam', metrics = ['acc']) \n",
        "  return model"
      ],
      "execution_count": 236,
      "outputs": []
    },
    {
      "cell_type": "code",
      "metadata": {
        "id": "x6rUELs7Ecy2"
      },
      "source": [
        "def predict_full_train(get_model, trainX, trainY, testX, testY):\n",
        "  model = get_model()\n",
        "  model.fit(trainX, trainY, verbose=0, epochs=100, validation_data=(testX, testY))\n",
        "  pred = model.predict(trainX)\n",
        "\n",
        "  trainPredict = scaler.inverse_transform(pred)\n",
        "  trainY_inverse = scaler.inverse_transform(trainY)\n",
        "\n",
        "  trainScore = math.sqrt(mean_squared_error(trainY_inverse[:,0], trainPredict[:,0]))\n",
        "\n",
        "  return trainScore"
      ],
      "execution_count": 255,
      "outputs": []
    },
    {
      "cell_type": "code",
      "metadata": {
        "id": "H_KdJBgvDLUX"
      },
      "source": [
        "%%time\n",
        "predict_full_train(get_RNN_model, trainX, trainY, testX, testY)"
      ],
      "execution_count": null,
      "outputs": []
    },
    {
      "cell_type": "code",
      "metadata": {
        "id": "n7S4ZzUhDRAa"
      },
      "source": [
        "trainPredict = scaler.inverse_transform(pred)\n",
        "trainY_inverse = scaler.inverse_transform(trainY)"
      ],
      "execution_count": 197,
      "outputs": []
    },
    {
      "cell_type": "code",
      "metadata": {
        "id": "EGcm2nfXGngn"
      },
      "source": [
        "def predict_full(func, trainX, trainY, testX, testY, count, epochs=100):\n",
        "  pred = np.zeros((len(testY), 1))\n",
        "  for i in range(count):\n",
        "    model = func()\n",
        "    model.fit(trainX, trainY, verbose=0, epochs=epochs)\n",
        "    pred += model.predict(testX)\n",
        "\n",
        "  testPredict = pred / count\n",
        "  testPredict = scaler.inverse_transform(testPredict)\n",
        "  testY_inverse = scaler.inverse_transform(testY)\n",
        "\n",
        "  testScore = math.sqrt(mean_squared_error(testY_inverse[:,0], testPredict[:,0]))\n",
        "  return testPredict, testScore"
      ],
      "execution_count": 331,
      "outputs": []
    },
    {
      "cell_type": "code",
      "metadata": {
        "id": "XTSvCKjKGSeR"
      },
      "source": [
        "%%time\n",
        "pred = predict_parts(get_FFNN_model(), trainX, trainY, testX, testY, 120, 200)[0]\n",
        "pred_full, score = predict_full(get_RNN_model, trainX, trainY, testX, testY, 1, 300)\n",
        "pred_low, score = predict_parts(get_FFNN_model(), trainX, trainY, testX, testY, 14, 50)"
      ],
      "execution_count": null,
      "outputs": []
    },
    {
      "cell_type": "code",
      "metadata": {
        "colab": {
          "base_uri": "https://localhost:8080/",
          "height": 748
        },
        "id": "YXNMJkFzGeqJ",
        "outputId": "c5ada301-0ca3-47b3-d3ef-8794cf99b2e5"
      },
      "source": [
        "analyse(pd.DataFrame(pred_full, index=testDF.index),\n",
        "        pd.DataFrame(pred, index=testDF.index),\n",
        "        pd.DataFrame(pred_low, index=testDF.index))"
      ],
      "execution_count": 249,
      "outputs": [
        {
          "output_type": "stream",
          "text": [
            "Корень среднеквадратичного отклонения при полном прогнозе: 2926.53\n",
            "Корень среднеквадратичного отклонения при прогнозе на год: 2900.44\n",
            "Корень среднеквадратичного отклонения при прогнозе на месяц: 2891.84\n"
          ],
          "name": "stdout"
        },
        {
          "output_type": "display_data",
          "data": {
            "image/png": "[encoded data removed]",
            "text/plain": [
              "<Figure size 1080x864 with 4 Axes>"
            ]
          },
          "metadata": {
            "tags": [],
            "needs_background": "light"
          }
        }
      ]
    },
    {
      "cell_type": "code",
      "metadata": {
        "id": "atL0-B0OHXed"
      },
      "source": [
        "def get_LSTM_model():\n",
        "  model = Sequential()\n",
        "  model.add(LSTM(64, input_shape=testX.shape[1:],activation='relu', return_sequences=True))\n",
        "  model.add(LSTM(32,activation='relu'))\n",
        "  model.add(Dense(64))\n",
        "  model.add(Dense(64))\n",
        "  model.add(Dense(1))\n",
        "  model.compile(optimizer = 'adam', loss='mse')\n",
        "  return model"
      ],
      "execution_count": 344,
      "outputs": []
    },
    {
      "cell_type": "code",
      "metadata": {
        "id": "Ld1Zbo-pSUbj"
      },
      "source": [
        "seq_len = 18\n",
        "trainX, trainY = [], []\n",
        "for i in range(seq_len, train_size):\n",
        "  trainX.append(all_dataset[i - seq_len:i,:])\n",
        "  trainY.append(dataset[i])\n",
        "\n",
        "testX, testY = [], []\n",
        "for i in range(train_size, len(dataset)):\n",
        "  testX.append(all_dataset[i - seq_len:i,:])\n",
        "  testY.append(dataset[i])\n",
        "\n",
        "trainX = np.array(trainX)\n",
        "testX = np.array(testX)\n",
        "trainY = np.array(trainY)\n",
        "testY = np.array(testY)"
      ],
      "execution_count": 345,
      "outputs": []
    },
    {
      "cell_type": "code",
      "metadata": {
        "id": "8toJGJhCHXm4"
      },
      "source": [
        "predict_full_train(get_LSTM_model, trainX, trainY, testX, testY)"
      ],
      "execution_count": null,
      "outputs": []
    },
    {
      "cell_type": "code",
      "metadata": {
        "id": "yT_Ei09zR0Df"
      },
      "source": [
        "%%time\n",
        "pred = predict_parts(get_FFNN_model(), trainX, trainY, testX, testY, 120, 200)[0]\n",
        "pred_full, score = predict_full(get_LSTM_model, trainX, trainY, testX, testY, 1, 700)\n",
        "pred_low, score = predict_parts(get_FFNN_model(), trainX, trainY, testX, testY, 14, 50)"
      ],
      "execution_count": null,
      "outputs": []
    },
    {
      "cell_type": "code",
      "metadata": {
        "id": "A1GYJ9P2Ui9p"
      },
      "source": [
        "analyse(pd.DataFrame(pred_full, index=testDF.index),\n",
        "        pd.DataFrame(pred_low, index=testDF.index),\n",
        "        pd.DataFrame(pred, index=testDF.index))"
      ],
      "execution_count": null,
      "outputs": []
    },
    {
      "cell_type": "code",
      "metadata": {
        "id": "r5YfWTxxzAX5"
      },
      "source": [
        "seq_len = 20\n",
        "train_X, test_X = [], []\n",
        "for i in range(train_size - seq_len):\n",
        "  train_X.append(train[i:i + seq_len, 0])\n",
        "\n",
        "for i in range(test_size):\n",
        "  test_X.append(dataset[train_size + i - seq_len: train_size + i, 0])"
      ],
      "execution_count": 496,
      "outputs": []
    },
    {
      "cell_type": "code",
      "metadata": {
        "id": "W-5uZSW_yjx3"
      },
      "source": [
        "trainX = daily_data[seq_len:train_size].drop(['y'], axis=1)\n",
        "trainY = y.values[seq_len:train_size]\n",
        "testX = daily_data[train_size:].drop(['y'], axis=1)\n",
        "testY = y.values[train_size:]"
      ],
      "execution_count": 497,
      "outputs": []
    },
    {
      "cell_type": "code",
      "metadata": {
        "id": "oIhGTKfZ0Pjh"
      },
      "source": [
        "for i in range(seq_len):\n",
        "  trainX['prev_' + str(i)] = pd.Series([arr[i] for arr in train_X], index=trainX.index)"
      ],
      "execution_count": 498,
      "outputs": []
    },
    {
      "cell_type": "code",
      "metadata": {
        "id": "tU0Lu5ht2z3V"
      },
      "source": [
        "for i in range(seq_len):\n",
        "  testX['prev_' + str(i)] = pd.Series([arr[i] for arr in test_X], index=testX.index)"
      ],
      "execution_count": 499,
      "outputs": []
    },
    {
      "cell_type": "code",
      "metadata": {
        "id": "SlvcrR2hyeRP"
      },
      "source": [
        "def predict_full_RF(model, trainX, trainY, testX, testY):\n",
        "  model.fit(trainX, trainY)\n",
        "  pred = model.predict(testX)\n",
        "  testScore = math.sqrt(mean_squared_error(testY, pred))\n",
        "  return pred, testScore"
      ],
      "execution_count": 500,
      "outputs": []
    },
    {
      "cell_type": "code",
      "metadata": {
        "id": "TxBYNvC6yez9"
      },
      "source": [
        "def predict_parts_RF(model, trainX, trainY, testX, testY, window):\n",
        "  dataX = np.concatenate((trainX, testX))\n",
        "  dataY = np.concatenate((trainY, testY))\n",
        "\n",
        "  parts_count = int(len(testY) / window)\n",
        "  parts = []\n",
        "  for i in range(parts_count):\n",
        "    parts += [testX[i * window:(i + 1) * window]]\n",
        "  if parts_count * window < len(testX):\n",
        "    parts += [testX[parts_count * window:]]\n",
        "  \n",
        "  pred = np.empty((0))\n",
        "\n",
        "  for i in range(len(parts)):\n",
        "    curr_len = len(trainX) + window * i\n",
        "    prev_len = 0\n",
        "    model.fit(dataX[prev_len:curr_len], dataY[prev_len:curr_len])\n",
        "    pred = np.concatenate(\\\n",
        "        (pred, model.predict(dataX[curr_len:curr_len + min(window, len(dataX) - curr_len)])))\n",
        "    prev_len = curr_len\n",
        "\n",
        "  testScore = math.sqrt(mean_squared_error(testY, pred))\n",
        "  return pred, testScore"
      ],
      "execution_count": 501,
      "outputs": []
    },
    {
      "cell_type": "code",
      "metadata": {
        "id": "5Oz0Y6iAz-2P"
      },
      "source": [
        "from sklearn.ensemble import RandomForestRegressor\n",
        "def get_RF_model():\n",
        "  return RandomForestRegressor()"
      ],
      "execution_count": 502,
      "outputs": []
    },
    {
      "cell_type": "code",
      "metadata": {
        "id": "Tb6jj6aqYSsJ"
      },
      "source": [
        "%%time\n",
        "full, score = predict_full_RF(get_RF_model(), trainX, np.ravel(trainY), testX, np.ravel(testY))\n",
        "mid, score = predict_parts_RF(get_RF_model(), trainX, trainY, testX, testY, 120)\n",
        "low, score = predict_parts_RF(get_RF_model(), trainX, trainY, testX, testY, 14)\n",
        "\n",
        "analyse(pd.DataFrame(full, index=testDF.index),\n",
        "        pd.DataFrame(mid, index=testDF.index),\n",
        "        pd.DataFrame(low, index=testDF.index))"
      ],
      "execution_count": null,
      "outputs": []
    },
    {
      "cell_type": "code",
      "metadata": {
        "id": "hY5p_hbdz57Q"
      },
      "source": [
        "analyse(pd.DataFrame(full, index=testDF.index),\n",
        "        pd.DataFrame(mid, index=testDF.index),\n",
        "        pd.DataFrame(low, index=testDF.index))"
      ],
      "execution_count": null,
      "outputs": []
    },
    {
      "cell_type": "code",
      "metadata": {
        "id": "QgByQl5R6YJ_"
      },
      "source": [
        "plt.plot()"
      ],
      "execution_count": null,
      "outputs": []
    },
    {
      "cell_type": "code",
      "metadata": {
        "id": "HjzNFXHW3co5"
      },
      "source": [
        "model = get_RF_model()\n",
        "model = model.fit(trainX, trainY)\n",
        "pred = model.predict(testX)\n",
        "testScore = math.sqrt(mean_squared_error(testY, pred))\n",
        "get_fi_plot(model.feature_importances_)"
      ],
      "execution_count": null,
      "outputs": []
    },
    {
      "cell_type": "code",
      "metadata": {
        "id": "ZR84Zd0i3Nm5"
      },
      "source": [
        "analyse(pd.DataFrame(full, index=X_test.index),\n",
        "        pd.DataFrame(mid, index=X_test.index),\n",
        "        pd.DataFrame(low, index=X_test.index))"
      ],
      "execution_count": null,
      "outputs": []
    },
    {
      "cell_type": "code",
      "metadata": {
        "id": "bxUC_Wtg6efO"
      },
      "source": [
        "plt.figure(figsize=(12,8))\n",
        "plt.plot(testDF[:100], lw=4)\n",
        "plt.plot(pd.DataFrame(low, index=testDF.index)[:100], color='red', lw=4)"
      ],
      "execution_count": null,
      "outputs": []
    },
    {
      "cell_type": "code",
      "metadata": {
        "id": "-q0uw7iY4D18"
      },
      "source": [
        "def get_fi_plot(fi):\n",
        "    feature_importances_df = pd.DataFrame({'features':list(trainX.columns), \n",
        "                                       'feature_importances':  fi})\\\n",
        "                        .sort_values(by='feature_importances')\n",
        "\n",
        "    f, ax = plt.subplots(figsize=(6, 6))\n",
        "    sns.barplot(y=feature_importances_df.features, x=feature_importances_df.feature_importances)\n",
        "\n",
        "    plt.xlabel('Важность атрибутов')\n",
        "    plt.ylabel('Атрибуты')\n",
        "    plt.title(\"Наиболее важные атрибуты\")\n",
        "    plt.show()"
      ],
      "execution_count": 431,
      "outputs": []
    }
  ]
}